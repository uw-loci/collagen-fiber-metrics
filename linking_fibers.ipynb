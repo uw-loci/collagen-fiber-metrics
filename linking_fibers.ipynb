{
 "cells": [
  {
   "cell_type": "code",
   "execution_count": 8,
   "metadata": {},
   "outputs": [],
   "source": [
    "import pandas as pd\n",
    "from glob import glob\n",
    "from collections import namedtuple\n",
    "import math\n",
    "from functools import reduce\n",
    "from itertools import product, groupby, combinations, permutations\n",
    "import numpy as np\n",
    "from scipy.interpolate import UnivariateSpline\n",
    "import cv2\n",
    "import random\n",
    "from skimage import io, morphology, img_as_bool, transform, img_as_ubyte\n",
    "import os\n",
    "from tqdm.notebook import tqdm"
   ]
  },
  {
   "cell_type": "code",
   "execution_count": 9,
   "metadata": {},
   "outputs": [],
   "source": [
    "def sort_lines(label_csv):\n",
    "    line_IDs = set(label_csv.iloc[:, 0])\n",
    "    line_dict = {}\n",
    "    for line_ID in line_IDs:\n",
    "        line_dict[str(line_ID)] = []\n",
    "    for idx in range(len(label_csv)):\n",
    "        line_ID = label_csv.iloc[idx, 0]\n",
    "        line_coords = Point(label_csv.iloc[idx, 1], label_csv.iloc[idx, 2]) # x, y \n",
    "        line_dict[str(line_ID)].append(line_coords)\n",
    "    for line_ID in line_IDs:\n",
    "        line_dict[str(line_ID)] = Line(points=line_dict[str(line_ID)], head=-1, tail=-1)\n",
    "    return line_dict\n",
    "\n",
    "def line_gradient(line, start=-1): # -1 point backwards\n",
    "    if start==1:\n",
    "        line = list(reversed(line))\n",
    "    angle = points_angle(line[0], line[1]) # point to first point\n",
    "    if len(line)>2:\n",
    "        decay = points_dist(line[0], line[1])/(points_dist(line[1], line[2])+points_dist(line[0], line[1]))\n",
    "        delta_x = line[1].x + decay*(line[2].x - line[1].x) + decay**2*(line[2].x - line[0].x)\n",
    "        delta_y = line[1].y + decay*(line[2].y - line[1].y) + decay**2*(line[2].y - line[0].y)\n",
    "        angle = points_angle(line[0], Point(delta_x, delta_y))\n",
    "    angle = angle * 180 / math.pi\n",
    "    return angle\n",
    "\n",
    "def connect_lines(line_dict_copy):\n",
    "    count = 0\n",
    "    # line_dict_temp = line_dict_copy.copy()\n",
    "    for k in list(line_dict_copy.keys()):\n",
    "        try:\n",
    "            v = line_dict_copy[k]\n",
    "            if int(v.head) * int(v.tail) <= 0:\n",
    "                if int(v.head)>=0:\n",
    "                    v_0 = line_dict_copy[v.head]\n",
    "                    if v_0.head==k:\n",
    "                        line_dict_copy[v.head] = Line(list(reversed(v.points))+v_0.points, head=v.tail, tail=v_0.tail)\n",
    "                        del line_dict_copy[k]\n",
    "                    if v_0.tail==k:\n",
    "                        line_dict_copy[v.head] = Line(v_0.points+v.points, head=v_0.head, tail=v.tail)\n",
    "                        del line_dict_copy[k]\n",
    "                if int(v.tail)>=0:\n",
    "                    v_0 = line_dict_copy[v.tail]\n",
    "                    if v_0.head==k:\n",
    "                        line_dict_copy[v.tail] = Line(v.points+v_0.points, head=v.head, tail=v_0.tail)\n",
    "                        del line_dict_copy[k]\n",
    "                    if v_0.tail==k:\n",
    "                        # print(Line(v.points+list(reversed(v_0.points)), head=v.head, tail=v_0.head))\n",
    "                        line_dict_copy[v.tail] = Line(v.points+list(reversed(v_0.points)), head=v.head, tail=v_0.head)\n",
    "                        # print(line_dict_copy)\n",
    "                        del line_dict_copy[k]\n",
    "        except Exception as e:\n",
    "            # print(e)\n",
    "            pass\n",
    "    return line_dict_copy \n",
    "\n",
    "def draw_line(points, image):\n",
    "    points_x = [point.x for point in points]\n",
    "    points_y = [point.y for point in points]\n",
    "    points = np.vstack((points_x, points_y)).T.astype(np.int32)\n",
    "    # Linear length along the line:\n",
    "    distance = np.cumsum( np.sqrt(np.sum( np.diff(points, axis=0)**2, axis=1 )) )\n",
    "    # distance = np.insert(distance, 0, 0)/distance[-1]\n",
    "\n",
    "    # Build a list of the spline function, one for each dimension:\n",
    "    if False: #points.shape[0] > 2:\n",
    "        splines = [UnivariateSpline(distance, coords, k=1, s=.1) for coords in points.T]\n",
    "        # Computed the spline for the asked distances:\n",
    "        alpha = np.linspace(0, 1, 75)\n",
    "        points_fitted = np.rint(np.vstack( spl(alpha) for spl in splines ).T).astype(np.int32)\n",
    "    else:\n",
    "        points_fitted = points\n",
    "    points_fitted = points_fitted.reshape((-1, 1, 2)) \n",
    "    if len(image.shape) == 3:\n",
    "        color = (random.randint(0,255), random.randint(0,255), random.randint(0,255))\n",
    "        image = cv2.polylines(image, [points_fitted], isClosed=False, color=color, thickness=1)\n",
    "    else:\n",
    "        color = 225\n",
    "        image = cv2.polylines(image, [points_fitted], isClosed=False, color=color, thickness=1)\n",
    "    return image    "
   ]
  },
  {
   "cell_type": "code",
   "execution_count": 16,
   "metadata": {},
   "outputs": [],
   "source": [
    "Point = namedtuple('Point', 'x y')\n",
    "Joint = namedtuple('Joint', 'line_ID joint_ID dir gradient')\n",
    "Line = namedtuple('Line', 'points head tail')\n",
    "joint_thresh = 3.0\n",
    "angle_thresh = 60\n",
    "image_size = 512"
   ]
  },
  {
   "cell_type": "code",
   "execution_count": 18,
   "metadata": {},
   "outputs": [
    {
     "data": {
      "application/vnd.jupyter.widget-view+json": {
       "model_id": "5287fe6ba359461ab5eba50949995a5f",
       "version_major": 2,
       "version_minor": 0
      },
      "text/plain": [
       "  0%|          | 0/25 [00:00<?, ?it/s]"
      ]
     },
     "metadata": {},
     "output_type": "display_data"
    }
   ],
   "source": [
    "data_path = 'round_1_mike'\n",
    "label_csvs = glob(os.path.join(data_path, 'labels', '*.csv'))\n",
    "for label_csv_name in tqdm(label_csvs):\n",
    "    label_csv = pd.read_csv(label_csv_name, index_col=0)\n",
    "    line_IDs = set(label_csv.iloc[:, 0])\n",
    "    line_dict = sort_lines(label_csv)\n",
    "    end_points = [[item.points[0], item.points[-1]] for key, item in line_dict.items()]\n",
    "    end_points = reduce(lambda x1, x2 : x1+x2, end_points) # flatten\n",
    "    close_points = lambda pt_1, pt_2, dist_thresh : math.sqrt((pt_1.x-pt_2.x)**2 + (pt_1.y-pt_2.y)**2) < dist_thresh\n",
    "    points_dist = lambda pt_1, pt_2 : math.sqrt((pt_1.x-pt_2.x)**2 + (pt_1.y-pt_2.y)**2)\n",
    "    # points_grad = lambda pt_1, pt_2, beta=1e-3 : (pt_1.x-pt_2.x)/(pt_1.y-pt_2.y+beta)\n",
    "    points_angle = lambda pt_1, pt_2, beta=1e-3 : math.atan2((pt_1.y-pt_2.y), (pt_1.x-pt_2.x)) # point to first point\n",
    "\n",
    "    joints = []\n",
    "    while len(end_points):\n",
    "        current_point = end_points.pop() # pop one element\n",
    "        \n",
    "        for point in end_points:\n",
    "            pop_point = close_points(current_point, point, joint_thresh) # compare to the rest\n",
    "            if pop_point:\n",
    "                end_points.remove(point)\n",
    "            if pop_point:\n",
    "                joints.append(current_point)\n",
    "    joints = list(set(joints))\n",
    "\n",
    "    grad_list = []\n",
    "    joint_IDs = []\n",
    "    for idx, joint in enumerate(joints):\n",
    "        for k, v in line_dict.items():\n",
    "            # print(v.points)\n",
    "            if close_points(v.points[0], joint, joint_thresh):\n",
    "                angle_start = line_gradient(v.points, -1) # backwards\n",
    "                grad_list.append(Joint(k, idx, -1, angle_start))\n",
    "                joint_IDs.append(idx)\n",
    "            if close_points(v.points[-1], joint, joint_thresh):\n",
    "                angle_end = line_gradient(v.points, 1) # forwards\n",
    "                grad_list.append(Joint(k, idx, 1, angle_end))\n",
    "                joint_IDs.append(idx)\n",
    "    joint_IDs = list(set(joint_IDs))\n",
    "\n",
    "    joint_dict = {}\n",
    "    for joint_ID in joint_IDs:\n",
    "        joint_dict[str(joint_ID)] = []\n",
    "    for joint_ID in joint_IDs:\n",
    "        for grad in grad_list:\n",
    "            if grad.joint_ID==joint_ID:\n",
    "                joint_dict[str(joint_ID)].append(grad)\n",
    "    link_dict = {}\n",
    "    for k, v in joint_dict.items():\n",
    "        grads = [i.gradient for i in v]\n",
    "        diff = [abs(abs(i[0]-i[1])-180) for i in list(product(grads, grads))]\n",
    "        result = [i for i, x in enumerate(diff) if x<angle_thresh]\n",
    "        result = [frozenset((i//len(grads), i%len(grads))) for i in result]\n",
    "        result = set(result)\n",
    "        result = [set(i) for i in result]\n",
    "        result_copy = result.copy()\n",
    "        if len(result) > 1:\n",
    "            pair_score = [abs(abs(grads[tuple(line_pair)[0]]-grads[tuple(line_pair)[1]])-180) for line_pair in result]\n",
    "            sorted_result = [x for _, x in sorted(zip(pair_score, result))]\n",
    "            running_set = set()\n",
    "            pruned_result = []\n",
    "            for line_pair in sorted_result:\n",
    "                if len(line_pair.intersection(running_set))==0:\n",
    "                    pruned_result.append(line_pair)\n",
    "                    running_set = running_set.union(line_pair)\n",
    "\n",
    "            result = [tuple(i) for i in pruned_result]\n",
    "        else:\n",
    "            result = [tuple(i) for i in result]\n",
    "        link_dict[k] = result\n",
    "\n",
    "    for (k_1,v_1), (k_2,v_2) in zip(link_dict.items(), joint_dict.items()):\n",
    "        for i in v_1:\n",
    "            line_a = v_2[i[0]]\n",
    "            line_b = v_2[i[1]]\n",
    "            if line_a.dir==1: # a tail\n",
    "                line_dict[line_a.line_ID] = Line(line_dict[line_a.line_ID].points, head=line_dict[line_a.line_ID].head, tail=line_b.line_ID) #\n",
    "            if line_a.dir==-1: # a head\n",
    "                line_dict[line_a.line_ID] = Line(line_dict[line_a.line_ID].points, head=line_b.line_ID, tail=line_dict[line_a.line_ID].tail)\n",
    "            if line_b.dir==1: # b tail\n",
    "                line_dict[line_b.line_ID] = Line(line_dict[line_b.line_ID].points, head=line_dict[line_b.line_ID].head, tail=line_a.line_ID)\n",
    "            if line_b.dir==-1: # b head\n",
    "                line_dict[line_b.line_ID] = Line(line_dict[line_b.line_ID].points, head=line_a.line_ID, tail=line_dict[line_b.line_ID].tail)\n",
    "\n",
    "    line_dict_copy = line_dict.copy()\n",
    "    heads = max([int(v.head) for k, v in line_dict_copy.items()])\n",
    "    tails = max([int(v.tail) for k, v in line_dict_copy.items()])\n",
    "    max_attemp = 0\n",
    "    while not(heads==-1 and tails==-1):\n",
    "        max_attemp += 1\n",
    "        line_dict_copy = connect_lines(line_dict_copy)\n",
    "        heads = max([int(v.head) for k, v in line_dict_copy.items()])\n",
    "        tails = max([int(v.tail) for k, v in line_dict_copy.items()])\n",
    "        if max_attemp > 100:\n",
    "            break\n",
    "\n",
    "    image = np.zeros((image_size, image_size), np.uint8)\n",
    "    for k, v in line_dict_copy.items():\n",
    "        points = v.points\n",
    "        image = draw_line(points, image)\n",
    "    image = morphology.dilation(image)\n",
    "    image = img_as_ubyte(transform.resize(image, (image_size, image_size), order=0, anti_aliasing=True))\n",
    "    _, image = cv2.threshold(image,0,255,cv2.THRESH_BINARY+cv2.THRESH_OTSU)\n",
    "    image = morphology.skeletonize(img_as_bool(image))\n",
    "    save_name = os.path.join(data_path, 'masks'+os.sep) + label_csv_name.split(os.sep)[-1]\n",
    "    cv2.imwrite(save_name.replace('csv', 'tif'), img_as_ubyte(image))\n",
    "        "
   ]
  },
  {
   "cell_type": "code",
   "execution_count": 15,
   "metadata": {},
   "outputs": [
    {
     "data": {
      "text/plain": [
       "False"
      ]
     },
     "execution_count": 15,
     "metadata": {},
     "output_type": "execute_result"
    }
   ],
   "source": [
    "cv2.imwrite(save_name.replace('csv', 'tif'), img_as_ubyte(image))"
   ]
  },
  {
   "cell_type": "code",
   "execution_count": 12,
   "metadata": {},
   "outputs": [
    {
     "data": {
      "text/plain": [
       "'round_1_mike'"
      ]
     },
     "execution_count": 12,
     "metadata": {},
     "output_type": "execute_result"
    }
   ],
   "source": [
    "data_path"
   ]
  },
  {
   "cell_type": "code",
   "execution_count": null,
   "metadata": {},
   "outputs": [
    {
     "data": {
      "text/plain": [
       "True"
      ]
     },
     "execution_count": 109,
     "metadata": {},
     "output_type": "execute_result"
    }
   ],
   "source": [
    "image = np.zeros((image_size, image_size), np.uint8)\n",
    "for k, v in line_dict_copy.items():\n",
    "    points = v.points\n",
    "    image = draw_line(points, image)\n",
    "image = morphology.dilation(image)\n",
    "image = img_as_ubyte(transform.resize(image, (image_size, image_size), order=0, anti_aliasing=True))\n",
    "_, image = cv2.threshold(image,0,255,cv2.THRESH_BINARY+cv2.THRESH_OTSU)\n",
    "image = morphology.skeletonize(img_as_bool(image))\n",
    "cv2.imwrite('test.tif', img_as_ubyte(image))"
   ]
  },
  {
   "cell_type": "code",
   "execution_count": null,
   "metadata": {},
   "outputs": [],
   "source": []
  }
 ],
 "metadata": {
  "interpreter": {
   "hash": "e66956c2d4d6dc1e67074375abc2ae8611315b9654285580ee9f7b1165255ccd"
  },
  "kernelspec": {
   "display_name": "Python 3.9.7 ('pyg')",
   "language": "python",
   "name": "python3"
  },
  "language_info": {
   "codemirror_mode": {
    "name": "ipython",
    "version": 3
   },
   "file_extension": ".py",
   "mimetype": "text/x-python",
   "name": "python",
   "nbconvert_exporter": "python",
   "pygments_lexer": "ipython3",
   "version": "3.9.7"
  },
  "orig_nbformat": 4
 },
 "nbformat": 4,
 "nbformat_minor": 2
}
