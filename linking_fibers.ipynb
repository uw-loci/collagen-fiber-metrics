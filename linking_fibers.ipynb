{
 "cells": [
  {
   "cell_type": "code",
   "execution_count": 33,
   "metadata": {},
   "outputs": [],
   "source": [
    "import pandas as pd\n",
    "from glob import glob\n",
    "from collections import namedtuple\n",
    "import math\n",
    "from functools import reduce\n",
    "from itertools import product, groupby, combinations, permutations\n",
    "import numpy as np\n",
    "from scipy.interpolate import UnivariateSpline\n",
    "import cv2\n",
    "import random\n",
    "from skimage import io, morphology, img_as_bool, transform, img_as_ubyte, img_as_float\n",
    "import os\n",
    "from tqdm.notebook import tqdm\n",
    "from matplotlib import pyplot as plt"
   ]
  },
  {
   "cell_type": "code",
   "execution_count": 12,
   "metadata": {},
   "outputs": [],
   "source": [
    "def sort_lines(label_csv):\n",
    "    \"\"\"\n",
    "        This function generates a line_dict from a dataframe\n",
    "    \"\"\"\n",
    "    line_IDs = set(label_csv.iloc[:, 0])\n",
    "    line_dict = {}\n",
    "    for line_ID in line_IDs:\n",
    "        line_dict[str(line_ID)] = []\n",
    "    for idx in range(len(label_csv)):\n",
    "        line_ID = label_csv.iloc[idx, 0]\n",
    "        line_coords = Point(label_csv.iloc[idx, 1], label_csv.iloc[idx, 2]) # x, y \n",
    "        line_dict[str(line_ID)].append(line_coords)\n",
    "    for line_ID in line_IDs:\n",
    "        line_dict[str(line_ID)] = Line(points=line_dict[str(line_ID)], head=-1, tail=-1)\n",
    "    return line_dict\n",
    "\n",
    "def line_gradient(line, start=-1): # -1 point backwards\n",
    "    \"\"\"\n",
    "        This function computes the outwards angle at either end of a centerline\n",
    "    \"\"\"\n",
    "    points_angle = lambda pt_1, pt_2 : math.atan2((pt_1.y-pt_2.y), (pt_1.x-pt_2.x)) # point to first point\n",
    "    points_dist = lambda pt_1, pt_2 : math.sqrt((pt_1.x-pt_2.x)**2 + (pt_1.y-pt_2.y)**2)\n",
    "    if start==1:\n",
    "        line = list(reversed(line))\n",
    "    angle = points_angle(line[0], line[1]) # point to first point\n",
    "    if len(line)>2:\n",
    "        decay = points_dist(line[0], line[1])/(points_dist(line[1], line[2])+points_dist(line[0], line[1]))\n",
    "        delta_x = line[1].x + decay*(line[2].x - line[1].x) + decay**2*(line[2].x - line[0].x)\n",
    "        delta_y = line[1].y + decay*(line[2].y - line[1].y) + decay**2*(line[2].y - line[0].y)\n",
    "        angle = points_angle(line[0], Point(delta_x, delta_y))\n",
    "    angle = angle * 180 / math.pi\n",
    "    return angle\n",
    "\n",
    "def connect_lines(line_dict_copy):\n",
    "    \"\"\"\n",
    "        This function connects centerlines based on their tail/head connectivities\n",
    "    \"\"\"\n",
    "    count = 0\n",
    "    # line_dict_temp = line_dict_copy.copy()\n",
    "    for k in list(line_dict_copy.keys()):\n",
    "        try:\n",
    "            v = line_dict_copy[k]\n",
    "            if int(v.head) * int(v.tail) <= 0:\n",
    "                if int(v.head)>=0:\n",
    "                    v_0 = line_dict_copy[v.head]\n",
    "                    if v_0.head==k:\n",
    "                        line_dict_copy[v.head] = Line(list(reversed(v.points))+v_0.points, head=v.tail, tail=v_0.tail)\n",
    "                        del line_dict_copy[k]\n",
    "                    if v_0.tail==k:\n",
    "                        line_dict_copy[v.head] = Line(v_0.points+v.points, head=v_0.head, tail=v.tail)\n",
    "                        del line_dict_copy[k]\n",
    "                if int(v.tail)>=0:\n",
    "                    v_0 = line_dict_copy[v.tail]\n",
    "                    if v_0.head==k:\n",
    "                        line_dict_copy[v.tail] = Line(v.points+v_0.points, head=v.head, tail=v_0.tail)\n",
    "                        del line_dict_copy[k]\n",
    "                    if v_0.tail==k:\n",
    "                        # print(Line(v.points+list(reversed(v_0.points)), head=v.head, tail=v_0.head))\n",
    "                        line_dict_copy[v.tail] = Line(v.points+list(reversed(v_0.points)), head=v.head, tail=v_0.head)\n",
    "                        # print(line_dict_copy)\n",
    "                        del line_dict_copy[k]\n",
    "        except Exception as e:\n",
    "            # print(e)\n",
    "            pass\n",
    "    return line_dict_copy \n",
    "\n",
    "def draw_line(points, image):\n",
    "    \"\"\"\n",
    "        This function draws a set of points that defines a centerline on a image (in-place)\n",
    "    \"\"\"\n",
    "    points_x = [point.x for point in points]\n",
    "    points_y = [point.y for point in points]\n",
    "    points = np.vstack((points_x, points_y)).T.astype(np.int32)\n",
    "    # Linear length along the line:\n",
    "    distance = np.cumsum( np.sqrt(np.sum( np.diff(points, axis=0)**2, axis=1 )) )\n",
    "    # distance = np.insert(distance, 0, 0)/distance[-1]\n",
    "\n",
    "    # Build a list of the spline function, one for each dimension:\n",
    "    if False: #points.shape[0] > 2:\n",
    "        splines = [UnivariateSpline(distance, coords, k=1, s=.1) for coords in points.T]\n",
    "        # Computed the spline for the asked distances:\n",
    "        alpha = np.linspace(0, 1, 75)\n",
    "        points_fitted = np.rint(np.vstack( spl(alpha) for spl in splines ).T).astype(np.int32)\n",
    "    else:\n",
    "        points_fitted = points\n",
    "    points_fitted = points_fitted.reshape((-1, 1, 2)) \n",
    "    if len(image.shape) == 3:\n",
    "        color = (random.randint(0,255), random.randint(0,255), random.randint(0,255))\n",
    "        image = cv2.polylines(image, [points_fitted], isClosed=False, color=color, thickness=1)\n",
    "    else:\n",
    "        color = 225\n",
    "        image = cv2.polylines(image, [points_fitted], isClosed=False, color=color, thickness=1)\n",
    "    return image    "
   ]
  },
  {
   "cell_type": "code",
   "execution_count": 34,
   "metadata": {},
   "outputs": [],
   "source": [
    "def linking_fibers(line_dict, joint_thresh=3):\n",
    "    \"\"\"\n",
    "        This function takes a line_dict and joins close fragments and return a line_dict with linked fibers \n",
    "    \"\"\"\n",
    "    end_points = [[item.points[0], item.points[-1]] for key, item in line_dict.items()]\n",
    "    end_points = reduce(lambda x1, x2 : x1+x2, end_points) # flatten\n",
    "    close_points = lambda pt_1, pt_2, dist_thresh : math.sqrt((pt_1.x-pt_2.x)**2 + (pt_1.y-pt_2.y)**2) < dist_thresh\n",
    "    \n",
    "    joints = []\n",
    "    while len(end_points):\n",
    "        current_point = end_points.pop() # pop one element\n",
    "        \n",
    "        for point in end_points:\n",
    "            pop_point = close_points(current_point, point, joint_thresh) # compare to the rest\n",
    "            if pop_point:\n",
    "                end_points.remove(point)\n",
    "            if pop_point:\n",
    "                joints.append(current_point)\n",
    "    joints = list(set(joints))\n",
    "\n",
    "    grad_list = []\n",
    "    joint_IDs = []\n",
    "    for idx, joint in enumerate(joints):\n",
    "        for k, v in line_dict.items():\n",
    "            # print(v.points)\n",
    "            if close_points(v.points[0], joint, joint_thresh):\n",
    "                angle_start = line_gradient(v.points, -1) # backwards\n",
    "                grad_list.append(Joint(k, idx, -1, angle_start))\n",
    "                joint_IDs.append(idx)\n",
    "            if close_points(v.points[-1], joint, joint_thresh):\n",
    "                angle_end = line_gradient(v.points, 1) # forwards\n",
    "                grad_list.append(Joint(k, idx, 1, angle_end))\n",
    "                joint_IDs.append(idx)\n",
    "    joint_IDs = list(set(joint_IDs))\n",
    "\n",
    "    joint_dict = {}\n",
    "    for joint_ID in joint_IDs:\n",
    "        joint_dict[str(joint_ID)] = []\n",
    "    for joint_ID in joint_IDs:\n",
    "        for grad in grad_list:\n",
    "            if grad.joint_ID==joint_ID:\n",
    "                joint_dict[str(joint_ID)].append(grad)\n",
    "    link_dict = {}\n",
    "    for k, v in joint_dict.items():\n",
    "        grads = [i.gradient for i in v]\n",
    "        diff = [abs(abs(i[0]-i[1])-180) for i in list(product(grads, grads))]\n",
    "        result = [i for i, x in enumerate(diff) if x<angle_thresh]\n",
    "        result = [frozenset((i//len(grads), i%len(grads))) for i in result]\n",
    "        result = set(result)\n",
    "        result = [set(i) for i in result]\n",
    "        if len(result) > 1:\n",
    "            pair_score = [abs(abs(grads[tuple(line_pair)[0]]-grads[tuple(line_pair)[1]])-180) for line_pair in result]\n",
    "            sorted_result = [x for _, x in sorted(zip(pair_score, result))]\n",
    "            running_set = set()\n",
    "            pruned_result = []\n",
    "            for line_pair in sorted_result:\n",
    "                if len(line_pair.intersection(running_set))==0:\n",
    "                    pruned_result.append(line_pair)\n",
    "                    running_set = running_set.union(line_pair)\n",
    "\n",
    "            result = [tuple(i) for i in pruned_result]\n",
    "        else:\n",
    "            result = [tuple(i) for i in result]\n",
    "        link_dict[k] = result\n",
    "\n",
    "    for (k_1,v_1), (k_2,v_2) in zip(link_dict.items(), joint_dict.items()):\n",
    "        for i in v_1:\n",
    "            line_a = v_2[i[0]]\n",
    "            line_b = v_2[i[1]]\n",
    "            if line_a.dir==1: # a tail\n",
    "                line_dict[line_a.line_ID] = Line(line_dict[line_a.line_ID].points, head=line_dict[line_a.line_ID].head, tail=line_b.line_ID) #\n",
    "            if line_a.dir==-1: # a head\n",
    "                line_dict[line_a.line_ID] = Line(line_dict[line_a.line_ID].points, head=line_b.line_ID, tail=line_dict[line_a.line_ID].tail)\n",
    "            if line_b.dir==1: # b tail\n",
    "                line_dict[line_b.line_ID] = Line(line_dict[line_b.line_ID].points, head=line_dict[line_b.line_ID].head, tail=line_a.line_ID)\n",
    "            if line_b.dir==-1: # b head\n",
    "                line_dict[line_b.line_ID] = Line(line_dict[line_b.line_ID].points, head=line_a.line_ID, tail=line_dict[line_b.line_ID].tail)\n",
    "\n",
    "    line_dict_copy = line_dict.copy()\n",
    "    heads = max([int(v.head) for k, v in line_dict_copy.items()])\n",
    "    tails = max([int(v.tail) for k, v in line_dict_copy.items()])\n",
    "    max_attemp = 0\n",
    "    while not(heads==-1 and tails==-1):\n",
    "        max_attemp += 1\n",
    "        line_dict_copy = connect_lines(line_dict_copy)\n",
    "        heads = max([int(v.head) for k, v in line_dict_copy.items()])\n",
    "        tails = max([int(v.tail) for k, v in line_dict_copy.items()])\n",
    "        if max_attemp > 100:\n",
    "            break\n",
    "\n",
    "    return line_dict_copy\n",
    "\n",
    "def draw_line_dict(line_dict_copy, image_size=(512, 512)):\n",
    "    \"\"\"\n",
    "        This function draws a line_dict on an image\n",
    "    \"\"\"\n",
    "    image = np.zeros((image_size[0], image_size[1]), np.uint8)\n",
    "    for k, v in line_dict_copy.items():\n",
    "        points = v.points\n",
    "        image = draw_line(points, image)\n",
    "    image = morphology.dilation(image)\n",
    "    image = img_as_ubyte(transform.resize(image, (image_size[0], image_size[1]), order=0, anti_aliasing=True))\n",
    "    _, image = cv2.threshold(image,0,255,cv2.THRESH_BINARY+cv2.THRESH_OTSU)\n",
    "    image = morphology.skeletonize(img_as_bool(image))\n",
    "    return image  \n",
    "\n",
    "def joint_filter(image):\n",
    "    \"\"\"\n",
    "        This function takes a centerline image (numpy array) and replace joints with 0\n",
    "    \"\"\"\n",
    "    image = img_as_float(image)\n",
    "    coords = []\n",
    "    corner_tpl = np.array([[1, 0, 1], [0, 0, 0], [1, 0, 1]])\n",
    "    edge_tpl = np.array([[0, 1, 0], [1, 0, 1], [0, 1, 0]])\n",
    "    for i in range(image.shape[0]-1):\n",
    "        for j in range(image.shape[1]-1):\n",
    "            if i > 1 and j > 1:\n",
    "                kernel = image[i-1:i+2, j-1:j+2]\n",
    "                if kernel[1, 1] == 1:\n",
    "                    if np.sum(kernel)>=5:\n",
    "                        coords.append(np.asarray([i, j]))\n",
    "                        image[i, j] = 0\n",
    "                    elif np.sum(kernel*corner_tpl)>=3 or np.sum(kernel*edge_tpl)>=3:\n",
    "                        image[i, j] = 0\n",
    "                    elif np.sum(kernel*corner_tpl)==2 and np.sum(kernel*edge_tpl)==1:\n",
    "                        image[i, j] = 0\n",
    "                    elif np.sum(kernel*corner_tpl)==1 and np.sum(kernel*edge_tpl)==2:\n",
    "                        image[i, j] = 0\n",
    "    return np.vstack(coords) if len(coords)>0 else np.array([]), img_as_ubyte(image)"
   ]
  },
  {
   "cell_type": "code",
   "execution_count": 20,
   "metadata": {},
   "outputs": [],
   "source": [
    "Point = namedtuple('Point', 'x y')\n",
    "Joint = namedtuple('Joint', 'line_ID joint_ID dir gradient')\n",
    "Line = namedtuple('Line', 'points head tail')\n",
    "joint_thresh = 3.0\n",
    "angle_thresh = 60\n",
    "image_size = (512, 512)"
   ]
  },
  {
   "cell_type": "code",
   "execution_count": 28,
   "metadata": {},
   "outputs": [],
   "source": [
    "data_path = 'round_1_mike'\n",
    "label_csvs = glob(os.path.join(data_path, 'labels', '*.csv'))\n",
    "label_csv_name = label_csvs[0]\n",
    "label_csv = pd.read_csv(label_csv_name, index_col=0)\n",
    "line_dict = sort_lines(label_csv)\n",
    "line_dict_linked = linking_fibers(line_dict)"
   ]
  },
  {
   "cell_type": "code",
   "execution_count": 29,
   "metadata": {},
   "outputs": [],
   "source": [
    "draw_raw = draw_line_dict(line_dict, image_size=image_size)\n",
    "draw_linked = draw_line_dict(line_dict_linked, image_size=image_size)"
   ]
  },
  {
   "cell_type": "code",
   "execution_count": 32,
   "metadata": {},
   "outputs": [
    {
     "data": {
      "text/plain": [
       "<matplotlib.image.AxesImage at 0x1d508341430>"
      ]
     },
     "execution_count": 32,
     "metadata": {},
     "output_type": "execute_result"
    },
    {
     "data": {
      "image/png": "[encoded data removed]",
      "text/plain": [
       "<Figure size 576x576 with 1 Axes>"
      ]
     },
     "metadata": {
      "needs_background": "light"
     },
     "output_type": "display_data"
    }
   ],
   "source": [
    "plt.figure(figsize=(8, 8))\n",
    "plt.imshow(draw_raw)"
   ]
  },
  {
   "cell_type": "code",
   "execution_count": 36,
   "metadata": {},
   "outputs": [
    {
     "data": {
      "text/plain": [
       "<matplotlib.image.AxesImage at 0x1d508399c10>"
      ]
     },
     "execution_count": 36,
     "metadata": {},
     "output_type": "execute_result"
    },
    {
     "data": {
      "image/png": "[encoded data removed]",
      "text/plain": [
       "<Figure size 576x576 with 1 Axes>"
      ]
     },
     "metadata": {
      "needs_background": "light"
     },
     "output_type": "display_data"
    }
   ],
   "source": [
    "joints_coords, filtered_image = joint_filter(draw_raw)\n",
    "fig, ax = plt.subplots(figsize=(8, 8))\n",
    "ax.imshow(draw_raw, cmap=plt.cm.gray)\n",
    "ax.plot(joints_coords[:, 1], joints_coords[:, 0], color='cyan', marker='o',\n",
    "        linestyle='None', markersize=6)\n",
    "plt.show()"
   ]
  },
  {
   "cell_type": "code",
   "execution_count": 18,
   "metadata": {},
   "outputs": [
    {
     "data": {
      "application/vnd.jupyter.widget-view+json": {
       "model_id": "5287fe6ba359461ab5eba50949995a5f",
       "version_major": 2,
       "version_minor": 0
      },
      "text/plain": [
       "  0%|          | 0/25 [00:00<?, ?it/s]"
      ]
     },
     "metadata": {},
     "output_type": "display_data"
    }
   ],
   "source": [
    "data_path = 'round_1_mike'\n",
    "label_csvs = glob(os.path.join(data_path, 'labels', '*.csv'))\n",
    "for label_csv_name in tqdm(label_csvs):\n",
    "    label_csv = pd.read_csv(label_csv_name, index_col=0)\n",
    "    line_dict = sort_lines(label_csv)\n",
    "    end_points = [[item.points[0], item.points[-1]] for key, item in line_dict.items()]\n",
    "    end_points = reduce(lambda x1, x2 : x1+x2, end_points) # flatten\n",
    "    close_points = lambda pt_1, pt_2, dist_thresh : math.sqrt((pt_1.x-pt_2.x)**2 + (pt_1.y-pt_2.y)**2) < dist_thresh\n",
    "    points_dist = lambda pt_1, pt_2 : math.sqrt((pt_1.x-pt_2.x)**2 + (pt_1.y-pt_2.y)**2)\n",
    "    # points_grad = lambda pt_1, pt_2, beta=1e-3 : (pt_1.x-pt_2.x)/(pt_1.y-pt_2.y+beta)\n",
    "    points_angle = lambda pt_1, pt_2, beta=1e-3 : math.atan2((pt_1.y-pt_2.y), (pt_1.x-pt_2.x)) # point to first point\n",
    "\n",
    "    joints = []\n",
    "    while len(end_points):\n",
    "        current_point = end_points.pop() # pop one element\n",
    "        \n",
    "        for point in end_points:\n",
    "            pop_point = close_points(current_point, point, joint_thresh) # compare to the rest\n",
    "            if pop_point:\n",
    "                end_points.remove(point)\n",
    "            if pop_point:\n",
    "                joints.append(current_point)\n",
    "    joints = list(set(joints))\n",
    "\n",
    "    grad_list = []\n",
    "    joint_IDs = []\n",
    "    for idx, joint in enumerate(joints):\n",
    "        for k, v in line_dict.items():\n",
    "            # print(v.points)\n",
    "            if close_points(v.points[0], joint, joint_thresh):\n",
    "                angle_start = line_gradient(v.points, -1) # backwards\n",
    "                grad_list.append(Joint(k, idx, -1, angle_start))\n",
    "                joint_IDs.append(idx)\n",
    "            if close_points(v.points[-1], joint, joint_thresh):\n",
    "                angle_end = line_gradient(v.points, 1) # forwards\n",
    "                grad_list.append(Joint(k, idx, 1, angle_end))\n",
    "                joint_IDs.append(idx)\n",
    "    joint_IDs = list(set(joint_IDs))\n",
    "\n",
    "    joint_dict = {}\n",
    "    for joint_ID in joint_IDs:\n",
    "        joint_dict[str(joint_ID)] = []\n",
    "    for joint_ID in joint_IDs:\n",
    "        for grad in grad_list:\n",
    "            if grad.joint_ID==joint_ID:\n",
    "                joint_dict[str(joint_ID)].append(grad)\n",
    "    link_dict = {}\n",
    "    for k, v in joint_dict.items():\n",
    "        grads = [i.gradient for i in v]\n",
    "        diff = [abs(abs(i[0]-i[1])-180) for i in list(product(grads, grads))]\n",
    "        result = [i for i, x in enumerate(diff) if x<angle_thresh]\n",
    "        result = [frozenset((i//len(grads), i%len(grads))) for i in result]\n",
    "        result = set(result)\n",
    "        result = [set(i) for i in result]\n",
    "        result_copy = result.copy()\n",
    "        if len(result) > 1:\n",
    "            pair_score = [abs(abs(grads[tuple(line_pair)[0]]-grads[tuple(line_pair)[1]])-180) for line_pair in result]\n",
    "            sorted_result = [x for _, x in sorted(zip(pair_score, result))]\n",
    "            running_set = set()\n",
    "            pruned_result = []\n",
    "            for line_pair in sorted_result:\n",
    "                if len(line_pair.intersection(running_set))==0:\n",
    "                    pruned_result.append(line_pair)\n",
    "                    running_set = running_set.union(line_pair)\n",
    "\n",
    "            result = [tuple(i) for i in pruned_result]\n",
    "        else:\n",
    "            result = [tuple(i) for i in result]\n",
    "        link_dict[k] = result\n",
    "\n",
    "    for (k_1,v_1), (k_2,v_2) in zip(link_dict.items(), joint_dict.items()):\n",
    "        for i in v_1:\n",
    "            line_a = v_2[i[0]]\n",
    "            line_b = v_2[i[1]]\n",
    "            if line_a.dir==1: # a tail\n",
    "                line_dict[line_a.line_ID] = Line(line_dict[line_a.line_ID].points, head=line_dict[line_a.line_ID].head, tail=line_b.line_ID) #\n",
    "            if line_a.dir==-1: # a head\n",
    "                line_dict[line_a.line_ID] = Line(line_dict[line_a.line_ID].points, head=line_b.line_ID, tail=line_dict[line_a.line_ID].tail)\n",
    "            if line_b.dir==1: # b tail\n",
    "                line_dict[line_b.line_ID] = Line(line_dict[line_b.line_ID].points, head=line_dict[line_b.line_ID].head, tail=line_a.line_ID)\n",
    "            if line_b.dir==-1: # b head\n",
    "                line_dict[line_b.line_ID] = Line(line_dict[line_b.line_ID].points, head=line_a.line_ID, tail=line_dict[line_b.line_ID].tail)\n",
    "\n",
    "    line_dict_copy = line_dict.copy()\n",
    "    heads = max([int(v.head) for k, v in line_dict_copy.items()])\n",
    "    tails = max([int(v.tail) for k, v in line_dict_copy.items()])\n",
    "    max_attemp = 0\n",
    "    while not(heads==-1 and tails==-1):\n",
    "        max_attemp += 1\n",
    "        line_dict_copy = connect_lines(line_dict_copy)\n",
    "        heads = max([int(v.head) for k, v in line_dict_copy.items()])\n",
    "        tails = max([int(v.tail) for k, v in line_dict_copy.items()])\n",
    "        if max_attemp > 100:\n",
    "            break\n",
    "\n",
    "    image = np.zeros((image_size, image_size), np.uint8)\n",
    "    for k, v in line_dict_copy.items():\n",
    "        points = v.points\n",
    "        image = draw_line(points, image)\n",
    "    image = morphology.dilation(image)\n",
    "    image = img_as_ubyte(transform.resize(image, (image_size, image_size), order=0, anti_aliasing=True))\n",
    "    _, image = cv2.threshold(image,0,255,cv2.THRESH_BINARY+cv2.THRESH_OTSU)\n",
    "    image = morphology.skeletonize(img_as_bool(image))\n",
    "    save_name = os.path.join(data_path, 'masks'+os.sep) + label_csv_name.split(os.sep)[-1]\n",
    "    cv2.imwrite(save_name.replace('csv', 'tif'), img_as_ubyte(image))\n",
    "        "
   ]
  },
  {
   "cell_type": "code",
   "execution_count": 15,
   "metadata": {},
   "outputs": [
    {
     "data": {
      "text/plain": [
       "False"
      ]
     },
     "execution_count": 15,
     "metadata": {},
     "output_type": "execute_result"
    }
   ],
   "source": [
    "cv2.imwrite(save_name.replace('csv', 'tif'), img_as_ubyte(image))"
   ]
  },
  {
   "cell_type": "code",
   "execution_count": 12,
   "metadata": {},
   "outputs": [
    {
     "data": {
      "text/plain": [
       "'round_1_mike'"
      ]
     },
     "execution_count": 12,
     "metadata": {},
     "output_type": "execute_result"
    }
   ],
   "source": [
    "data_path"
   ]
  },
  {
   "cell_type": "code",
   "execution_count": null,
   "metadata": {},
   "outputs": [
    {
     "data": {
      "text/plain": [
       "True"
      ]
     },
     "execution_count": 109,
     "metadata": {},
     "output_type": "execute_result"
    }
   ],
   "source": [
    "image = np.zeros((image_size, image_size), np.uint8)\n",
    "for k, v in line_dict_copy.items():\n",
    "    points = v.points\n",
    "    image = draw_line(points, image)\n",
    "image = morphology.dilation(image)\n",
    "image = img_as_ubyte(transform.resize(image, (image_size, image_size), order=0, anti_aliasing=True))\n",
    "_, image = cv2.threshold(image,0,255,cv2.THRESH_BINARY+cv2.THRESH_OTSU)\n",
    "image = morphology.skeletonize(img_as_bool(image))\n",
    "cv2.imwrite('test.tif', img_as_ubyte(image))"
   ]
  },
  {
   "cell_type": "code",
   "execution_count": null,
   "metadata": {},
   "outputs": [],
   "source": []
  }
 ],
 "metadata": {
  "interpreter": {
   "hash": "9b31907b65825698a9aebbc4c20fbd9f244fb3dbf0a5eee48a39fe40dfa032bc"
  },
  "kernelspec": {
   "display_name": "Python 3.8.13 ('ip')",
   "language": "python",
   "name": "python3"
  },
  "language_info": {
   "codemirror_mode": {
    "name": "ipython",
    "version": 3
   },
   "file_extension": ".py",
   "mimetype": "text/x-python",
   "name": "python",
   "nbconvert_exporter": "python",
   "pygments_lexer": "ipython3",
   "version": "3.8.13"
  },
  "orig_nbformat": 4
 },
 "nbformat": 4,
 "nbformat_minor": 2
}
