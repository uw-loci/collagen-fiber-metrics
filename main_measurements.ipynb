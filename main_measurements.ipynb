{
 "cells": [
  {
   "cell_type": "code",
   "execution_count": 135,
   "metadata": {},
   "outputs": [],
   "source": [
    "import numpy as np\n",
    "\n",
    "from skimage.transform import probabilistic_hough_line\n",
    "from skimage.util import view_as_windows\n",
    "\n",
    "from collections import namedtuple\n",
    "import math\n",
    "import random\n",
    "\n",
    "from skimage.morphology import dilation, disk, square\n",
    "from skimage import io\n",
    "import matplotlib.pyplot as plt\n",
    "import matplotlib.patches as mpatches\n",
    "from scipy import stats\n",
    "import itertools\n",
    "import functools\n",
    "from skimage import filters, img_as_ubyte, img_as_float\n",
    "from skimage import transform, exposure\n",
    "from sklearn import metrics\n",
    "from tqdm.notebook import tqdm\n",
    "from skimage.measure import label, regionprops\n",
    "from matplotlib import pyplot as plt"
   ]
  },
  {
   "cell_type": "code",
   "execution_count": 66,
   "metadata": {},
   "outputs": [],
   "source": [
    "random.seed(10)\n",
    "np.random.seed(10)"
   ]
  },
  {
   "cell_type": "code",
   "execution_count": 67,
   "metadata": {},
   "outputs": [],
   "source": [
    "Point = namedtuple('Point', 'x y')\n",
    "Segment = namedtuple('Segment', 'point_0, point_1, length')\n",
    "mi_sigma = 1\n",
    "points_dist = lambda pt_0, pt_1 : math.sqrt((pt_0.x-pt_1.x)**2 + (pt_0.y-pt_1.y)**2)\n",
    "segment_angle = lambda segment : math.atan2((segment.point_1.y-segment.point_0.y), (segment.point_1.x-segment.point_0.x)) #* 180 / math.pi\n",
    "window_size = 16\n",
    "img_size = 512\n",
    "step_factor = 1"
   ]
  },
  {
   "cell_type": "code",
   "execution_count": 68,
   "metadata": {},
   "outputs": [],
   "source": [
    "def norm_counts(counts, weights):\n",
    "    weights = [i/ min(weights) for i in weights]\n",
    "    counts_norm = [list(itertools.repeat(count, int(weight)))  for count, weight in zip(counts, weights)]\n",
    "    return functools.reduce(lambda x1, x2 : x1+x2, counts_norm) "
   ]
  },
  {
   "cell_type": "code",
   "execution_count": 212,
   "metadata": {},
   "outputs": [],
   "source": [
    "def joint_filter(image):\n",
    "    image_f = img_as_float(image)\n",
    "    coords = []\n",
    "    for i in range(image.shape[0]-1):\n",
    "        for j in range(image.shape[1]-1):\n",
    "            if i > 1 and j > 1:\n",
    "                # print(np.sum(image[i-1:i+2, j-1:j+2]))\n",
    "                if image_f[i, j] == 1 and np.sum(image_f[i-1:i+2, j-1:j+2])>3:\n",
    "                    coords.append(np.asarray([i, j]))\n",
    "                    image[i, j] = 0    \n",
    "    return np.vstack(coords) if len(coords)>0 else np.array([]), image\n",
    "\n",
    "def compute_feats(test_patch, smooth_sigma=2):\n",
    "    # compute cirvar, cirmean, lenvar, lenmean, num_segs, alignment coefficient (normalized)\n",
    "    lines = probabilistic_hough_line(test_patch, threshold=1, line_length=2, line_gap=0, seed=0)\n",
    "    angles = []\n",
    "    lengths = []\n",
    "    joints, filtered = joint_filter(test_patch)\n",
    "    labeled = label(filtered, connectivity=2)\n",
    "    regions = regionprops(labeled)\n",
    "    line_lengths = np.asarray([region.area for region in regions if region.area>3])\n",
    "    for line in lines:\n",
    "        p0, p1 = line # (x1, y1), (x2, y2)\n",
    "        if p0[0]<=p1[0]:\n",
    "            point_0 = Point(p0[0], p0[1])\n",
    "            point_1 = Point(p1[0], p1[1])\n",
    "        if p0[0]>p1[0]:\n",
    "            point_1 = Point(p0[0], p0[1])\n",
    "            point_0 = Point(p1[0], p1[1])\n",
    "        segment = Segment(point_0, point_1, points_dist(point_0, point_1))\n",
    "        angles.append(segment_angle(segment))\n",
    "        lengths.append(segment.length)\n",
    "        \n",
    "    density = exposure.rescale_intensity(filters.gaussian(dilation(test_patch, selem=disk(1)), sigma=smooth_sigma, preserve_range=False), out_range=(0, 1))\n",
    "    if len(lines)>0:\n",
    "        angles_norm = norm_counts(angles, lengths)\n",
    "        cirmean = stats.circmean(angles_norm, high=math.pi/2, low=-math.pi/2)\n",
    "        cirvar = stats.circvar(angles_norm, high=math.pi/2, low=-math.pi/2)\n",
    "        lenmean = np.mean(line_lengths) + joints.shape[0]/np.count_nonzero(test_patch)\n",
    "        lenvar = np.var(line_lengths/lenmean)\n",
    "        intensity = np.count_nonzero(test_patch)\n",
    "        feats = {'cir_mean' : cirmean, 'cir_var' : cirvar, 'len_mean' : lenmean, 'len_var' : lenvar, 'intensity' : intensity, 'density' : density}\n",
    "    else:\n",
    "        feats = {'cir_mean' : 1, 'cir_var' : 1, 'len_mean' : 1, 'len_var' : 1, 'intensity' : 1, 'density' : density}\n",
    "    return feats"
   ]
  },
  {
   "cell_type": "code",
   "execution_count": 197,
   "metadata": {},
   "outputs": [],
   "source": [
    "def patch_sequence_feats(sequence_patches):\n",
    "    feats = []\n",
    "    for i in range(sequence_patches.shape[0]):\n",
    "        for j in range(sequence_patches.shape[1]):\n",
    "            test_patch = sequence_patches[i, j]\n",
    "            feats.append(compute_feats(test_patch))\n",
    "    return feats"
   ]
  },
  {
   "cell_type": "code",
   "execution_count": 198,
   "metadata": {},
   "outputs": [],
   "source": [
    "def image_to_feats(edges, step_factor=8):\n",
    "    edges = edges.copy()\n",
    "    # edges_padded = np.pad(edges, pad_width=(int(window_size/2), int(window_size/2)), mode='reflect')\n",
    "    sequence_patches = view_as_windows(edges, window_shape=(window_size, window_size), step=(int(window_size/step_factor), int(window_size/step_factor)))\n",
    "    feats = patch_sequence_feats(sequence_patches)\n",
    "    return feats, (sequence_patches.shape[0], sequence_patches.shape[1])"
   ]
  },
  {
   "cell_type": "code",
   "execution_count": 199,
   "metadata": {},
   "outputs": [],
   "source": [
    "def iou(mask_1, mask_2, beta=1e-3, soft=False):\n",
    "    if soft:\n",
    "        union = (mask_1**2 + mask_2**2)/2\n",
    "        intersection = mask_1 * mask_2\n",
    "    else:\n",
    "        union = np.logical_or(mask_1, mask_2)\n",
    "        intersection = np.logical_and(mask_1, mask_2)\n",
    "    ratio = (intersection.sum()+beta)/(union.sum()+beta)\n",
    "    return ratio\n",
    "\n",
    "\n",
    "def norm_feats(vecs):\n",
    "    vecs_1 = vecs.copy()\n",
    "    for col in range(vecs_1.shape[1]):\n",
    "        vecs_1[:, col] = exposure.rescale_intensity(vecs_1[:, col], out_range=(0, 1))\n",
    "    return vecs_1"
   ]
  },
  {
   "cell_type": "code",
   "execution_count": 73,
   "metadata": {},
   "outputs": [],
   "source": [
    "edges_1 = io.imread('Michael-1.tif')\n",
    "edges_2 = io.imread('Bin-1.tif')"
   ]
  },
  {
   "cell_type": "code",
   "execution_count": 74,
   "metadata": {},
   "outputs": [],
   "source": [
    "feats_1, shape = image_to_feats(edges_1, step_factor)\n",
    "feats_2, _ = image_to_feats(edges_2, step_factor)\n",
    "iou_scores = []\n",
    "vecs_1 = []\n",
    "vecs_2 = []\n",
    "for feat_1, feat_2 in zip(feats_1, feats_2):\n",
    "    vecs_1.append(np.array( [ feat_1[k] for k in list(feat_1.keys())[:-1] ] ))\n",
    "    vecs_2.append(np.array( [ feat_2[k] for k in list(feat_2.keys())[:-1] ] ))\n",
    "    iou_scores.append(iou(feat_1['density'], feat_2['density'], soft=True))\n",
    "vecs_1 = np.vstack(vecs_1)\n",
    "vecs_2 = np.vstack(vecs_2)"
   ]
  },
  {
   "cell_type": "code",
   "execution_count": 75,
   "metadata": {},
   "outputs": [],
   "source": [
    "vecs_1_norm = norm_feats(vecs_1)\n",
    "vecs_2_norm = norm_feats(vecs_2)\n",
    "sims = []\n",
    "for vec_1, vec_2 in zip(vecs_1_norm, vecs_2_norm):\n",
    "    sim = metrics.pairwise.cosine_similarity(vec_1.reshape(1, -1), vec_2.reshape(1, -1))\n",
    "    # sim = metrics.mean_squared_error(vec_1.reshape(1, -1), vec_2.reshape(1, -1)) * (vec_1[-1]+vec_2[-1])/2\n",
    "    sims.append(sim)\n",
    "# sims = exposure.rescale_intensity( np.array([max(sims)-i for i in sims]), out_range=(0, 1))"
   ]
  },
  {
   "cell_type": "code",
   "execution_count": 76,
   "metadata": {},
   "outputs": [],
   "source": [
    "canvas = np.zeros(shape[0]*shape[1])\n",
    "for idx, item in enumerate(sims):\n",
    "    canvas[idx] = 0.8*item + 0.2*iou_scores[idx]"
   ]
  },
  {
   "cell_type": "code",
   "execution_count": 77,
   "metadata": {},
   "outputs": [],
   "source": [
    "canvas = canvas.reshape(shape)\n",
    "canvas = 1- transform.resize(canvas, (int(shape[0]*window_size/step_factor), int(shape[1]*window_size/step_factor)))"
   ]
  },
  {
   "cell_type": "code",
   "execution_count": 78,
   "metadata": {},
   "outputs": [],
   "source": [
    "io.imsave('test-soft.tif', img_as_ubyte(canvas))"
   ]
  },
  {
   "cell_type": "code",
   "execution_count": null,
   "metadata": {},
   "outputs": [],
   "source": []
  }
 ],
 "metadata": {
  "interpreter": {
   "hash": "e66956c2d4d6dc1e67074375abc2ae8611315b9654285580ee9f7b1165255ccd"
  },
  "kernelspec": {
   "display_name": "Python 3.9.7 ('pyg')",
   "language": "python",
   "name": "python3"
  },
  "language_info": {
   "codemirror_mode": {
    "name": "ipython",
    "version": 3
   },
   "file_extension": ".py",
   "mimetype": "text/x-python",
   "name": "python",
   "nbconvert_exporter": "python",
   "pygments_lexer": "ipython3",
   "version": "3.9.7"
  },
  "orig_nbformat": 4
 },
 "nbformat": 4,
 "nbformat_minor": 2
}
