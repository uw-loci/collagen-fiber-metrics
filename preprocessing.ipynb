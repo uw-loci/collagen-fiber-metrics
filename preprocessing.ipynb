{
 "cells": [
  {
   "cell_type": "code",
   "execution_count": 7,
   "metadata": {},
   "outputs": [],
   "source": [
    "from skimage.util import view_as_windows, img_as_uint, img_as_ubyte, img_as_float\n",
    "from skimage import io, exposure\n",
    "from glob import glob\n",
    "import os\n",
    "import numpy as np\n",
    "import shutil\n",
    "from random import shuffle"
   ]
  },
  {
   "cell_type": "code",
   "execution_count": 52,
   "metadata": {},
   "outputs": [],
   "source": [
    "raw_imgs = glob('raw_data\\\\PSR\\\\*.tif') #+ glob('raw_data\\\\Unstained\\\\*.tif')\n",
    "# raw_imgs = glob('E:\\\\experiments_drive\\\\experiments\\\\dsmil\\\\WSI\\\\mh_fovs_SHG\\\\New folder\\\\pdac\\\\*.tif')\n",
    "outpath = 'datasettest'"
   ]
  },
  {
   "cell_type": "code",
   "execution_count": 53,
   "metadata": {},
   "outputs": [],
   "source": [
    "window_shape = (512, 512)\n",
    "thresh = 0.02"
   ]
  },
  {
   "cell_type": "code",
   "execution_count": 68,
   "metadata": {},
   "outputs": [],
   "source": [
    "im_max = []\n",
    "im_min = []\n",
    "for img in raw_imgs:\n",
    "    im = io.imread(img)\n",
    "    im_max.append(np.percentile(im, 99.5))\n",
    "    im_min.append(np.percentile(im, 23))\n",
    "max_im = sum(im_max)/len(im_max)\n",
    "min_im = sum(im_min)/len(im_min)"
   ]
  },
  {
   "cell_type": "code",
   "execution_count": 69,
   "metadata": {},
   "outputs": [],
   "source": [
    "for img in raw_imgs:\n",
    "    dataset_name = os.path.dirname(img).split(os.sep)[-1]\n",
    "    im_name = os.path.splitext(os.path.basename(img))[0]\n",
    "    # break\n",
    "    # os.makedirs(os.path.join(outpath, im_name), exist_ok=True)\n",
    "    im = io.imread(img)\n",
    "    im = exposure.rescale_intensity(im, in_range=(min_im, max_im), out_range=(0, 1))\n",
    "    im_windows = view_as_windows(im, window_shape, step=window_shape)\n",
    "    for i in range(im_windows.shape[0]):\n",
    "        for j in range(im_windows.shape[1]):\n",
    "            im_tile = im_windows[i, j]\n",
    "            # print(np.mean(im_tile))\n",
    "            if np.mean(im_tile)>thresh:\n",
    "                save_name = os.path.join(outpath, f'{dataset_name}___{im_name}___{i}_{j}.tif')\n",
    "                im = im_windows[i, j]\n",
    "                # im = exposure.rescale_intensity(im, in_range=(min_im, max_im), out_range=(0, 1))\n",
    "                io.imsave(save_name, img_as_ubyte(im_windows[i, j]))"
   ]
  },
  {
   "cell_type": "code",
   "execution_count": 85,
   "metadata": {},
   "outputs": [
    {
     "name": "stderr",
     "output_type": "stream",
     "text": [
      "C:\\Users\\binli123\\AppData\\Local\\Temp/ipykernel_484/1874270158.py:4: UserWarning: E:\\experiments_drive\\experiments\\dsmil\\WSI\\mh_fovs_SHG\\normal\\PDAC_MetroHealth_N302L5-lsm--5968_7092.ome.tif is a low contrast image\n",
      "  io.imsave(img, img_as_ubyte(im))\n",
      "C:\\Users\\binli123\\AppData\\Local\\Temp/ipykernel_484/1874270158.py:4: UserWarning: E:\\experiments_drive\\experiments\\dsmil\\WSI\\mh_fovs_SHG\\normal\\PDAC_MetroHealth_N302L5-lsm--6953_5066.ome.tif is a low contrast image\n",
      "  io.imsave(img, img_as_ubyte(im))\n",
      "C:\\Users\\binli123\\AppData\\Local\\Temp/ipykernel_484/1874270158.py:4: UserWarning: E:\\experiments_drive\\experiments\\dsmil\\WSI\\mh_fovs_SHG\\normal\\PDAC_MetroHealth_N302L5-lsm--9026_7439.ome.tif is a low contrast image\n",
      "  io.imsave(img, img_as_ubyte(im))\n",
      "C:\\Users\\binli123\\AppData\\Local\\Temp/ipykernel_484/1874270158.py:4: UserWarning: E:\\experiments_drive\\experiments\\dsmil\\WSI\\mh_fovs_SHG\\normal\\PDAC_MetroHealth_N352L42-lsm--9574_6312.ome.tif is a low contrast image\n",
      "  io.imsave(img, img_as_ubyte(im))\n",
      "C:\\Users\\binli123\\AppData\\Local\\Temp/ipykernel_484/1874270158.py:4: UserWarning: E:\\experiments_drive\\experiments\\dsmil\\WSI\\mh_fovs_SHG\\normal\\PDAC_MetroHealth_N358L47-lsm--16361_5093.ome.tif is a low contrast image\n",
      "  io.imsave(img, img_as_ubyte(im))\n",
      "C:\\Users\\binli123\\AppData\\Local\\Temp/ipykernel_484/1874270158.py:4: UserWarning: E:\\experiments_drive\\experiments\\dsmil\\WSI\\mh_fovs_SHG\\normal\\PDAC_MetroHealth_N381L66-lsm--13175_3580.ome.tif is a low contrast image\n",
      "  io.imsave(img, img_as_ubyte(im))\n",
      "C:\\Users\\binli123\\AppData\\Local\\Temp/ipykernel_484/1874270158.py:4: UserWarning: E:\\experiments_drive\\experiments\\dsmil\\WSI\\mh_fovs_SHG\\pancreatitis\\PDAC_MetroHealth_040-lsm--17621_8686.ome.tif is a low contrast image\n",
      "  io.imsave(img, img_as_ubyte(im))\n"
     ]
    }
   ],
   "source": [
    "for img in raw_imgs:\n",
    "    im = io.imread(img)\n",
    "    im = exposure.rescale_intensity(im, in_range=(min_im, max_im), out_range=(0, 1))\n",
    "    io.imsave(img, img_as_ubyte(im))"
   ]
  },
  {
   "cell_type": "code",
   "execution_count": 49,
   "metadata": {},
   "outputs": [],
   "source": [
    "annotated = glob('annotations/round_1/images/*.tif')\n",
    "pools = glob('datasettest/*.tif')\n",
    "target_dir = 'annotations/tese/images'\n",
    "os.makedirs(target_dir, exist_ok=True)"
   ]
  },
  {
   "cell_type": "code",
   "execution_count": 50,
   "metadata": {},
   "outputs": [],
   "source": [
    "shuffle(pools)\n",
    "annotated_imgs = [i.split(os.sep)[-1] for i in annotated]\n",
    "count = 0\n",
    "# img_sums = []\n",
    "for img_path in pools:\n",
    "    img_name = img_path.split(os.sep)[-1]\n",
    "    # img_sums.append(np.sum(io.imread(img_path)))\n",
    "    # if np.sum(io.imread(img_path)) < thresh: continue\n",
    "    if img_name not in annotated_imgs:\n",
    "        dname = img_name.split('___')[0]\n",
    "        if dname == 'Cole':\n",
    "            pass\n",
    "        if dname == 'PCCP':\n",
    "            if np.random.uniform(0, 1) > 0.5: continue\n",
    "        if dname == 'Unstained':\n",
    "            if np.random.uniform(0, 1) > 0.25: continue\n",
    "        dst = os.path.join(target_dir, img_name)\n",
    "        shutil.copyfile(img_path, dst)\n",
    "        count += 1\n",
    "    else:\n",
    "        print('In pool')\n",
    "    if count > 200: break"
   ]
  },
  {
   "cell_type": "code",
   "execution_count": 30,
   "metadata": {},
   "outputs": [],
   "source": [
    "thresh = np.percentile(img_sums, 40)"
   ]
  },
  {
   "cell_type": "code",
   "execution_count": null,
   "metadata": {},
   "outputs": [],
   "source": []
  }
 ],
 "metadata": {
  "interpreter": {
   "hash": "9b31907b65825698a9aebbc4c20fbd9f244fb3dbf0a5eee48a39fe40dfa032bc"
  },
  "kernelspec": {
   "display_name": "Python 3.8.13 ('ip')",
   "language": "python",
   "name": "python3"
  },
  "language_info": {
   "codemirror_mode": {
    "name": "ipython",
    "version": 3
   },
   "file_extension": ".py",
   "mimetype": "text/x-python",
   "name": "python",
   "nbconvert_exporter": "python",
   "pygments_lexer": "ipython3",
   "version": "3.8.13"
  },
  "orig_nbformat": 4
 },
 "nbformat": 4,
 "nbformat_minor": 2
}
